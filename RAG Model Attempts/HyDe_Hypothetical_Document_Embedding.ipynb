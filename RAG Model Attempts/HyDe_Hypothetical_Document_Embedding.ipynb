{
 "cells": [
  {
   "cell_type": "markdown",
   "metadata": {},
   "source": [
    "# Hypothetical Document Embedding (HyDE)"
   ]
  },
  {
   "cell_type": "code",
   "execution_count": null,
   "metadata": {},
   "outputs": [],
   "source": [
    "import os\n",
    "import sys\n",
    "from dotenv import load_dotenv\n",
    "\n",
    "# Load environment variables from a .env file\n",
    "load_dotenv()\n",
    "\n",
    "# Set the OpenAI API key environment variable (comment out if not using OpenAI)\n",
    "if not os.getenv('OPENAI_API_KEY'):\n",
    "    os.environ[\"OPENAI_API_KEY\"] = input(\"Please enter your OpenAI API key: \")\n",
    "else:\n",
    "    os.environ[\"OPENAI_API_KEY\"] = os.getenv('OPENAI_API_KEY')\n",
    "\n",
    "sys.path.append(os.path.abspath(os.path.join(os.getcwd(), '..'))) # Add the parent directory to the path sicnce we work with notebooks\n",
    "from helper_functions import *\n",
    "from evaluation.evalute_rag import *"
   ]
  },
  {
   "cell_type": "code",
   "execution_count": 2,
   "metadata": {},
   "outputs": [],
   "source": [
    "path = \"../data/Understanding_Climate_Change.pdf\""
   ]
  },
  {
   "cell_type": "code",
   "execution_count": 3,
   "metadata": {},
   "outputs": [],
   "source": [
    "class HyDERetriever:\n",
    "    def __init__(self, files_path, chunk_size=1000, chunk_overlap=200):\n",
    "        self.llm = ChatOpenAI(temperature=0, model_name=\"gpt-4o-mini\", max_tokens=4000)\n",
    "\n",
    "        self.embeddings = OpenAIEmbeddings()\n",
    "        self.chunk_size = chunk_size\n",
    "        self.chunk_overlap = chunk_overlap\n",
    "        self.vectorstore = encode_pdf(files_path, chunk_size=self.chunk_size, chunk_overlap=self.chunk_overlap)\n",
    "    \n",
    "        \n",
    "        self.hyde_prompt = PromptTemplate(\n",
    "            input_variables=[\"query\", \"chunk_size\"],\n",
    "            template=\"\"\"Given the question '{query}', generate a hypothetical document that directly answers this question. The document should be detailed and in-depth.\n",
    "            the document size has be exactly {chunk_size} characters.\"\"\",\n",
    "        )\n",
    "        self.hyde_chain = self.hyde_prompt | self.llm\n",
    "\n",
    "    def generate_hypothetical_document(self, query):\n",
    "        input_variables = {\"query\": query, \"chunk_size\": self.chunk_size}\n",
    "        return self.hyde_chain.invoke(input_variables).content\n",
    "\n",
    "    def retrieve(self, query, k=3):\n",
    "        hypothetical_doc = self.generate_hypothetical_document(query)\n",
    "        similar_docs = self.vectorstore.similarity_search(hypothetical_doc, k=k)\n",
    "        return similar_docs, hypothetical_doc\n"
   ]
  },
  {
   "cell_type": "code",
   "execution_count": 4,
   "metadata": {},
   "outputs": [],
   "source": [
    "retriever = HyDERetriever(path)"
   ]
  },
  {
   "cell_type": "code",
   "execution_count": 5,
   "metadata": {},
   "outputs": [],
   "source": [
    "test_query = \"What is the main cause of climate change?\"\n",
    "results, hypothetical_doc = retriever.retrieve(test_query)"
   ]
  },
  {
   "cell_type": "code",
   "execution_count": 6,
   "metadata": {},
   "outputs": [
    {
     "name": "stdout",
     "output_type": "stream",
     "text": [
      "hypothetical_doc:\n",
      "\n",
      "**Title: Understanding the Main Cause of Climate Change**  Climate change primarily results from the increase of\n",
      "greenhouse gases (GHGs) in the Earth's atmosphere, predominantly due to human activities. The burning of fossil\n",
      "fuels—such as coal, oil, and natural gas—for energy and transportation is the leading contributor. This process releases\n",
      "carbon dioxide (CO2), the most significant GHG, into the atmosphere.  Deforestation also plays a critical role, as trees\n",
      "absorb CO2. When forests are cleared for agriculture or urban development, this carbon storage capacity diminishes,\n",
      "exacerbating the problem. Additionally, industrial processes and agricultural practices release methane (CH4) and\n",
      "nitrous oxide (N2O), potent GHGs that further intensify global warming.  The cumulative effect of these activities leads\n",
      "to an enhanced greenhouse effect, trapping heat and causing global temperatures to rise. This warming disrupts weather\n",
      "patterns, leading to extreme weather events, rising sea levels, and ecological imbalances, underscoring the urgent need\n",
      "for sustainable practices to mitigate climate change.\n",
      "\n",
      "Context 1:\n",
      "Chapter 2: Causes of Climate Change \n",
      "Greenhouse Gases \n",
      "The primary cause of recent climate change is the increase in greenhouse gases in the \n",
      "atmosphere. Greenhouse gases, such as carbon dioxide (CO2), methane (CH4), and nitrous \n",
      "oxide (N2O), trap heat from the sun, creating a \"greenhouse effect.\" This effect is essential \n",
      "for life on Earth, as it keeps the planet warm enough to support life. However, human \n",
      "activities have intensified this natural process, leading to a warmer climate. \n",
      "Fossil Fuels \n",
      "Burning fossil fuels for energy releases large amounts of CO2. This includes coal, oil, and \n",
      "natural gas used for electricity, heating, and transportation. The industrial revolution marked \n",
      "the beginning of a significant increase in fossil fuel consumption, which continues to rise \n",
      "today. \n",
      "Coal\n",
      "\n",
      "\n",
      "Context 2:\n",
      "Most of these climate changes are attributed to very small variations in Earth's orbit that \n",
      "change the amount of solar energy our planet receives. During the Holocene epoch, which \n",
      "began at the end of the last ice age, human societies flourished, but the industrial era has seen \n",
      "unprecedented changes. \n",
      "Modern Observations \n",
      "Modern scientific observations indicate a rapid increase in global temperatures, sea levels, \n",
      "and extreme weather events. The Intergovernmental Panel on Climate Change (IPCC) has \n",
      "documented these changes extensively. Ice core samples, tree rings, and ocean sediments \n",
      "provide a historical record that scientists use to understand past climate conditions and \n",
      "predict future trends. The evidence overwhelmingly shows that recent changes are primarily \n",
      "driven by human activities, particularly the emission of greenhouse gases. \n",
      "Chapter 2: Causes of Climate Change \n",
      "Greenhouse Gases \n",
      "The primary cause of recent climate change is the increase in greenhouse gases in the\n",
      "\n",
      "\n",
      "Context 3:\n",
      "Understanding Climate Change \n",
      "Chapter 1: Introduction to Climate Change \n",
      "Climate change refers to significant, long-term changes in the global climate. The term \n",
      "\"global climate\" encompasses the planet's overall weather patterns, including temperature, \n",
      "precipitation, and wind patterns, over an extended period. Over the past century, human \n",
      "activities, particularly the burning of fossil fuels and deforestation, have significantly \n",
      "contributed to climate change. \n",
      "Historical Context \n",
      "The Earth's climate has changed throughout history. Over the past 650,000 years, there have \n",
      "been seven cycles of glacial advance and retreat, with the abrupt end of the last ice age about \n",
      "11,700 years ago marking the beginning of the modern climate era and human civilization. \n",
      "Most of these climate changes are attributed to very small variations in Earth's orbit that \n",
      "change the amount of solar energy our planet receives. During the Holocene epoch, which\n",
      "\n",
      "\n"
     ]
    }
   ],
   "source": [
    "docs_content = [doc.page_content for doc in results]\n",
    "\n",
    "print(\"hypothetical_doc:\\n\")\n",
    "print(text_wrap(hypothetical_doc)+\"\\n\")\n",
    "show_context(docs_content)"
   ]
  },
  {
   "cell_type": "code",
   "execution_count": 9,
   "metadata": {},
   "outputs": [],
   "source": [
    "test_query = \"Can technology play a big role in causing climate change to reducein today's world?\"\n",
    "results, hypothetical_doc = retriever.retrieve(test_query)"
   ]
  },
  {
   "cell_type": "code",
   "execution_count": 10,
   "metadata": {},
   "outputs": [
    {
     "name": "stdout",
     "output_type": "stream",
     "text": [
      "hypothetical_doc:\n",
      "\n",
      "**Title: The Role of Technology in Mitigating Climate Change**  Technology can significantly reduce climate change\n",
      "impacts in today's world. Renewable energy sources, such as solar and wind, have advanced, making them more efficient\n",
      "and cost-effective. These technologies decrease reliance on fossil fuels, which are major contributors to greenhouse gas\n",
      "emissions.  Smart grids enhance energy distribution, optimizing consumption and reducing waste. Electric vehicles (EVs)\n",
      "are becoming mainstream, lowering emissions from transportation. Innovations in carbon capture and storage (CCS)\n",
      "technology allow industries to mitigate their carbon footprints.  Moreover, precision agriculture utilizes data\n",
      "analytics to optimize resource use, minimizing environmental impact. Sustainable building technologies improve energy\n",
      "efficiency in construction.  However, technology alone cannot solve climate change; it must be paired with policy\n",
      "changes, public awareness, and global cooperation. By harnessing technological advancements, we can create a sustainable\n",
      "future and significantly reduce climate change effects.\n",
      "\n",
      "Context 1:\n",
      "protect ecosystems. Practices such as agroforestry, precision farming, and regenerative \n",
      "agriculture offer pathways to a more sustainable and resilient food system. \n",
      "By understanding the causes, effects, and potential solutions to climate change, we can take \n",
      "informed actions to protect our planet for future generations. Global cooperation, innovation, \n",
      "and commitment are key to addressing this pressing challenge. \n",
      " \n",
      "Chapter 5: The Role of Technology in Climate Change \n",
      "Mitigation \n",
      "Advanced Renewable Energy Solutions \n",
      "Next-Generation Solar Technologies\n",
      "\n",
      "\n",
      "Context 2:\n",
      "Chapter 15: Climate Change and Technology \n",
      "Clean Energy Technologies \n",
      "Solar and Wind Energy \n",
      "Advancements in solar and wind energy technologies have made these sources more efficient \n",
      "and cost-effective. Innovations such as bifacial solar panels, floating wind turbines, and \n",
      "energy storage systems are expanding the potential of renewable energy. Continued research \n",
      "and development are essential for scaling these technologies. \n",
      "Energy Storage \n",
      "Energy storage technologies, such as batteries and pumped hydro storage, are crucial for \n",
      "integrating renewable energy into the grid. They provide flexibility and reliability, ensuring a \n",
      "steady supply of electricity even when the sun isn't shining or the wind isn't blowing. \n",
      "Advances in battery technology are reducing costs and increasing storage capacity. \n",
      "Hydrogen Energy \n",
      "Hydrogen energy has the potential to decarbonize sectors that are difficult to electrify, such\n",
      "\n",
      "\n",
      "Context 3:\n",
      "and storage, and sustainable agriculture. Collaboration between governments, industries, and \n",
      "academia is essential for fostering innovation. \n",
      "Renewable Energy Technology \n",
      "Investing in research and development of renewable energy technologies can lead to more \n",
      "efficient and cost-effective solutions. Emerging technologies, such as advanced solar cells \n",
      "and wind turbine designs, hold promise for the future. \n",
      "Carbon Capture and Storage \n",
      "Carbon capture and storage (CCS) technologies aim to capture CO2 emissions from industrial \n",
      "sources and store them underground. These technologies are critical for reducing emissions \n",
      "from hard-to-abate sectors and achieving net-zero targets. \n",
      "Sustainable Agriculture \n",
      "Innovations in sustainable agriculture can help reduce emissions, enhance food security, and \n",
      "protect ecosystems. Practices such as agroforestry, precision farming, and regenerative \n",
      "agriculture offer pathways to a more sustainable and resilient food system.\n",
      "\n",
      "\n"
     ]
    }
   ],
   "source": [
    "docs_content = [doc.page_content for doc in results]\n",
    "\n",
    "print(\"hypothetical_doc:\\n\")\n",
    "print(text_wrap(hypothetical_doc)+\"\\n\")\n",
    "show_context(docs_content)"
   ]
  },
  {
   "cell_type": "code",
   "execution_count": null,
   "metadata": {},
   "outputs": [],
   "source": []
  }
 ],
 "metadata": {
  "kernelspec": {
   "display_name": "Python 3 (ipykernel)",
   "language": "python",
   "name": "python3"
  },
  "language_info": {
   "codemirror_mode": {
    "name": "ipython",
    "version": 3
   },
   "file_extension": ".py",
   "mimetype": "text/x-python",
   "name": "python",
   "nbconvert_exporter": "python",
   "pygments_lexer": "ipython3",
   "version": "3.10.11"
  }
 },
 "nbformat": 4,
 "nbformat_minor": 2
}
